{
 "cells": [
  {
   "cell_type": "code",
   "execution_count": 1,
   "id": "505585d1",
   "metadata": {},
   "outputs": [
    {
     "name": "stdout",
     "output_type": "stream",
     "text": [
      "         Price  Battery Life  Speed (GHz)  score  rank\n",
      "Product                                               \n",
      "B          800            12          2.6    0.9     1\n",
      "D          900            11          2.8    0.8     2\n",
      "A         1000            10          2.4    0.4     3\n",
      "C         1200             9          2.2    0.0     4\n"
     ]
    }
   ],
   "source": [
    "import pandas as pd\n",
    "from mcdm import MCDMScorer\n",
    "\n",
    "# Sample data\n",
    "data = pd.DataFrame({\n",
    "    \"Product\": [\"A\", \"B\", \"C\", \"D\"],\n",
    "    \"Price\": [1000, 800, 1200, 900],      # cost\n",
    "    \"Battery Life\": [10, 12, 9, 11],      # benefit\n",
    "    \"Speed (GHz)\": [2.4, 2.6, 2.2, 2.8]   # benefit\n",
    "}).set_index(\"Product\")\n",
    "\n",
    "# Define weights and feature types\n",
    "weights = {\n",
    "    \"Price\": 0.4,\n",
    "    \"Battery Life\": 0.3,\n",
    "    \"Speed (GHz)\": 0.3\n",
    "}\n",
    "\n",
    "feature_types = {\n",
    "    \"Price\": \"cost\",\n",
    "    \"Battery Life\": \"benefit\",\n",
    "    \"Speed (GHz)\": \"benefit\"\n",
    "}\n",
    "\n",
    "# Initialize scorer\n",
    "scorer = MCDMScorer(weights, feature_types)\n",
    "\n",
    "# Score and rank\n",
    "results = scorer.score(data)\n",
    "print(results)\n",
    "\n",
    "# Export to CSV\n",
    "results.to_csv(\"ranked_results.csv\")\n"
   ]
  }
 ],
 "metadata": {
  "kernelspec": {
   "display_name": "Python 3",
   "language": "python",
   "name": "python3"
  },
  "language_info": {
   "codemirror_mode": {
    "name": "ipython",
    "version": 3
   },
   "file_extension": ".py",
   "mimetype": "text/x-python",
   "name": "python",
   "nbconvert_exporter": "python",
   "pygments_lexer": "ipython3",
   "version": "3.9.13"
  }
 },
 "nbformat": 4,
 "nbformat_minor": 5
}
